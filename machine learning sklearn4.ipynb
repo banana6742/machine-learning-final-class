{
 "cells": [
  {
   "cell_type": "code",
   "execution_count": 2,
   "metadata": {},
   "outputs": [
    {
     "name": "stdout",
     "output_type": "stream",
     "text": [
      "Pipeline(memory=None,\n",
      "     steps=[('dim_reduction', PCA(copy=True, iterated_power='auto', n_components=None, random_state=None,\n",
      "  svd_solver='auto', tol=0.0, whiten=False)), ('linear_model', LinearRegression(copy_X=True, fit_intercept=True, n_jobs=1, normalize=False))])\n"
     ]
    }
   ],
   "source": [
    "from sklearn.pipeline import  Pipeline\n",
    "# import logistic regression estimator\n",
    "from sklearn.linear_model import LinearRegression\n",
    "# import linear estimater\n",
    "from sklearn.linear_model import LinearRegression\n",
    "# import PCA estimator for dimentionality reduction\n",
    "from sklearn.decomposition import PCA\n",
    "# Chain the estimators together\n",
    "estimator=[('dim_reduction', PCA()), ('linear_model', LinearRegression())]\n",
    "# put the chain of estimator in the pipeline Objct\n",
    "pipeline_estimator=Pipeline(estimator)\n",
    "# # check the chain of estimators\n",
    "print(pipeline_estimator)"
   ]
  },
  {
   "cell_type": "code",
   "execution_count": 3,
   "metadata": {},
   "outputs": [
    {
     "name": "stdout",
     "output_type": "stream",
     "text": [
      "Pipeline(memory=None,\n",
      "     steps=[('dim_reduction', PCA(copy=True, iterated_power='auto', n_components=None, random_state=None,\n",
      "  svd_solver='auto', tol=0.0, whiten=False)), ('linear_model', LinearRegression(copy_X=True, fit_intercept=True, n_jobs=1, normalize=False))])\n",
      "-----------------------\n",
      "('linear_model', LinearRegression(copy_X=True, fit_intercept=True, n_jobs=1, normalize=False))\n",
      "-----------------------\n",
      "-----------------------\n",
      "-----------------------\n",
      "[('dim_reduction', PCA(copy=True, iterated_power='auto', n_components=None, random_state=None,\n",
      "  svd_solver='auto', tol=0.0, whiten=False)), ('linear_model', LinearRegression(copy_X=True, fit_intercept=True, n_jobs=1, normalize=False))]\n"
     ]
    }
   ],
   "source": [
    "# pipeline\n",
    "from sklearn.pipeline import  Pipeline\n",
    "# import logistic regression estimator\n",
    "from sklearn.linear_model import LinearRegression\n",
    "# import linear estimater\n",
    "from sklearn.linear_model import LinearRegression\n",
    "# import PCA estimator for dimentionality reduction\n",
    "from sklearn.decomposition import PCA\n",
    "# Chain the estimators together\n",
    "estimator=[('dim_reduction', PCA()), ('linear_model', LinearRegression())]\n",
    "# put the chain of estimator in the pipeline Objct\n",
    "pipeline_estimator=Pipeline(estimator)\n",
    "# # check the chain of estimators\n",
    "print(pipeline_estimator)\n",
    "print('-----------------------')\n",
    "print(pipeline_estimator.steps[1])\n",
    "print('-----------------------')\n",
    "print('-----------------------')\n",
    "print('-----------------------')\n",
    "print(pipeline_estimator.steps)\n"
   ]
  }
 ],
 "metadata": {
  "kernelspec": {
   "display_name": "Python 3",
   "language": "python",
   "name": "python3"
  },
  "language_info": {
   "codemirror_mode": {
    "name": "ipython",
    "version": 3
   },
   "file_extension": ".py",
   "mimetype": "text/x-python",
   "name": "python",
   "nbconvert_exporter": "python",
   "pygments_lexer": "ipython3",
   "version": "3.6.5"
  }
 },
 "nbformat": 4,
 "nbformat_minor": 2
}
